{
 "cells": [
  {
   "cell_type": "markdown",
   "metadata": {},
   "source": [
    "## Identification.\n",
    "\n",
    "• Giovana Morais - \n",
    "\n",
    "• Lucas Batista Gabriel - 7656147\n",
    "\n"
   ]
  },
  {
   "cell_type": "markdown",
   "metadata": {},
   "source": [
    "## Name of the dataset\n",
    "Dataset: City Cellular Traffic Map\n",
    "URL: https://github.com/caesar0301/city-cellular-traffic-map"
   ]
  },
  {
   "cell_type": "markdown",
   "metadata": {},
   "source": [
    "## Abstract\n",
    "bla bla bla"
   ]
  },
  {
   "cell_type": "markdown",
   "metadata": {},
   "source": [
    "## Questions to the dataset\n",
    "Question 1: \n",
    "\n",
    "Question 2: \n",
    "\n",
    "Question 3: \n",
    "\n",
    "Question 4:\n",
    "\n",
    "Question 5:\n",
    "\n",
    "Question 6:\n"
   ]
  },
  {
   "cell_type": "markdown",
   "metadata": {},
   "source": [
    "## EDA\n",
    "Present your EDA strategy:\n"
   ]
  },
  {
   "cell_type": "code",
   "execution_count": 1,
   "metadata": {},
   "outputs": [],
   "source": [
    "import pandas as pd\n",
    "from statistics import mean, median\n",
    "import matplotlib.pyplot as plt\n",
    "from matplotlib import rcParams\n",
    "import geopandas\n",
    "%matplotlib inline\n",
    "rcParams['figure.figsize'] = 15, 10"
   ]
  },
  {
   "cell_type": "markdown",
   "metadata": {},
   "source": [
    "### Celular Traffic"
   ]
  },
  {
   "cell_type": "code",
   "execution_count": 9,
   "metadata": {},
   "outputs": [],
   "source": [
    "cellular_trafic_data = pd.read_csv('traceset/cellular_traffic.csv', delimiter = ',', decimal='.')"
   ]
  },
  {
   "cell_type": "code",
   "execution_count": 10,
   "metadata": {},
   "outputs": [
    {
     "name": "stdout",
     "output_type": "stream",
     "text": [
      "<class 'pandas.core.frame.DataFrame'>\n",
      "RangeIndex: 1625680 entries, 0 to 1625679\n",
      "Data columns (total 5 columns):\n",
      "bs           1625680 non-null int64\n",
      "time_hour    1625680 non-null int64\n",
      "users        1625680 non-null int64\n",
      "packets      1625680 non-null int64\n",
      "bytes        1625680 non-null float64\n",
      "dtypes: float64(1), int64(4)\n",
      "memory usage: 62.0 MB\n"
     ]
    }
   ],
   "source": [
    "cellular_trafic_data.info()"
   ]
  },
  {
   "cell_type": "code",
   "execution_count": 11,
   "metadata": {},
   "outputs": [
    {
     "data": {
      "text/html": [
       "<div>\n",
       "<style scoped>\n",
       "    .dataframe tbody tr th:only-of-type {\n",
       "        vertical-align: middle;\n",
       "    }\n",
       "\n",
       "    .dataframe tbody tr th {\n",
       "        vertical-align: top;\n",
       "    }\n",
       "\n",
       "    .dataframe thead th {\n",
       "        text-align: right;\n",
       "    }\n",
       "</style>\n",
       "<table border=\"1\" class=\"dataframe\">\n",
       "  <thead>\n",
       "    <tr style=\"text-align: right;\">\n",
       "      <th></th>\n",
       "      <th>bs</th>\n",
       "      <th>time_hour</th>\n",
       "      <th>users</th>\n",
       "      <th>packets</th>\n",
       "      <th>bytes</th>\n",
       "    </tr>\n",
       "  </thead>\n",
       "  <tbody>\n",
       "    <tr>\n",
       "      <td>0</td>\n",
       "      <td>1</td>\n",
       "      <td>1345305600</td>\n",
       "      <td>1</td>\n",
       "      <td>3</td>\n",
       "      <td>3473.0</td>\n",
       "    </tr>\n",
       "    <tr>\n",
       "      <td>1</td>\n",
       "      <td>2</td>\n",
       "      <td>1345305600</td>\n",
       "      <td>1</td>\n",
       "      <td>12</td>\n",
       "      <td>2496.0</td>\n",
       "    </tr>\n",
       "    <tr>\n",
       "      <td>2</td>\n",
       "      <td>3</td>\n",
       "      <td>1345305600</td>\n",
       "      <td>1</td>\n",
       "      <td>18</td>\n",
       "      <td>5616.0</td>\n",
       "    </tr>\n",
       "    <tr>\n",
       "      <td>3</td>\n",
       "      <td>4</td>\n",
       "      <td>1345305600</td>\n",
       "      <td>1</td>\n",
       "      <td>113</td>\n",
       "      <td>156068.0</td>\n",
       "    </tr>\n",
       "    <tr>\n",
       "      <td>4</td>\n",
       "      <td>5</td>\n",
       "      <td>1345305600</td>\n",
       "      <td>1</td>\n",
       "      <td>19</td>\n",
       "      <td>5928.0</td>\n",
       "    </tr>\n",
       "  </tbody>\n",
       "</table>\n",
       "</div>"
      ],
      "text/plain": [
       "   bs   time_hour  users  packets     bytes\n",
       "0   1  1345305600      1        3    3473.0\n",
       "1   2  1345305600      1       12    2496.0\n",
       "2   3  1345305600      1       18    5616.0\n",
       "3   4  1345305600      1      113  156068.0\n",
       "4   5  1345305600      1       19    5928.0"
      ]
     },
     "execution_count": 11,
     "metadata": {},
     "output_type": "execute_result"
    }
   ],
   "source": [
    "cellular_trafic_data.head()"
   ]
  },
  {
   "cell_type": "code",
   "execution_count": 18,
   "metadata": {},
   "outputs": [
    {
     "data": {
      "text/html": [
       "<div>\n",
       "<style scoped>\n",
       "    .dataframe tbody tr th:only-of-type {\n",
       "        vertical-align: middle;\n",
       "    }\n",
       "\n",
       "    .dataframe tbody tr th {\n",
       "        vertical-align: top;\n",
       "    }\n",
       "\n",
       "    .dataframe thead th {\n",
       "        text-align: right;\n",
       "    }\n",
       "</style>\n",
       "<table border=\"1\" class=\"dataframe\">\n",
       "  <thead>\n",
       "    <tr style=\"text-align: right;\">\n",
       "      <th></th>\n",
       "      <th>bs</th>\n",
       "      <th>time_hour</th>\n",
       "      <th>users</th>\n",
       "      <th>packets</th>\n",
       "      <th>bytes</th>\n",
       "    </tr>\n",
       "  </thead>\n",
       "  <tbody>\n",
       "    <tr>\n",
       "      <td>1625675</td>\n",
       "      <td>7993</td>\n",
       "      <td>1345993200</td>\n",
       "      <td>159</td>\n",
       "      <td>29125</td>\n",
       "      <td>41199852.0</td>\n",
       "    </tr>\n",
       "    <tr>\n",
       "      <td>1625676</td>\n",
       "      <td>7995</td>\n",
       "      <td>1345993200</td>\n",
       "      <td>168</td>\n",
       "      <td>24182</td>\n",
       "      <td>36864079.0</td>\n",
       "    </tr>\n",
       "    <tr>\n",
       "      <td>1625677</td>\n",
       "      <td>7997</td>\n",
       "      <td>1345993200</td>\n",
       "      <td>190</td>\n",
       "      <td>33781</td>\n",
       "      <td>78226635.0</td>\n",
       "    </tr>\n",
       "    <tr>\n",
       "      <td>1625678</td>\n",
       "      <td>7998</td>\n",
       "      <td>1345993200</td>\n",
       "      <td>198</td>\n",
       "      <td>34345</td>\n",
       "      <td>228122304.0</td>\n",
       "    </tr>\n",
       "    <tr>\n",
       "      <td>1625679</td>\n",
       "      <td>7999</td>\n",
       "      <td>1345993200</td>\n",
       "      <td>237</td>\n",
       "      <td>36725</td>\n",
       "      <td>67846985.0</td>\n",
       "    </tr>\n",
       "  </tbody>\n",
       "</table>\n",
       "</div>"
      ],
      "text/plain": [
       "           bs   time_hour  users  packets        bytes\n",
       "1625675  7993  1345993200    159    29125   41199852.0\n",
       "1625676  7995  1345993200    168    24182   36864079.0\n",
       "1625677  7997  1345993200    190    33781   78226635.0\n",
       "1625678  7998  1345993200    198    34345  228122304.0\n",
       "1625679  7999  1345993200    237    36725   67846985.0"
      ]
     },
     "execution_count": 18,
     "metadata": {},
     "output_type": "execute_result"
    }
   ],
   "source": [
    "cellular_trafic_data.tail()"
   ]
  },
  {
   "cell_type": "code",
   "execution_count": 24,
   "metadata": {},
   "outputs": [
    {
     "data": {
      "text/html": [
       "<div>\n",
       "<style scoped>\n",
       "    .dataframe tbody tr th:only-of-type {\n",
       "        vertical-align: middle;\n",
       "    }\n",
       "\n",
       "    .dataframe tbody tr th {\n",
       "        vertical-align: top;\n",
       "    }\n",
       "\n",
       "    .dataframe thead th {\n",
       "        text-align: right;\n",
       "    }\n",
       "</style>\n",
       "<table border=\"1\" class=\"dataframe\">\n",
       "  <thead>\n",
       "    <tr style=\"text-align: right;\">\n",
       "      <th></th>\n",
       "      <th>bs</th>\n",
       "      <th>time_hour</th>\n",
       "      <th>users</th>\n",
       "      <th>packets</th>\n",
       "      <th>bytes</th>\n",
       "    </tr>\n",
       "  </thead>\n",
       "  <tbody>\n",
       "    <tr>\n",
       "      <td>count</td>\n",
       "      <td>1.625680e+06</td>\n",
       "      <td>1.625680e+06</td>\n",
       "      <td>1.625680e+06</td>\n",
       "      <td>1.625680e+06</td>\n",
       "      <td>1.625680e+06</td>\n",
       "    </tr>\n",
       "    <tr>\n",
       "      <td>mean</td>\n",
       "      <td>5.372162e+03</td>\n",
       "      <td>1.345643e+09</td>\n",
       "      <td>1.377170e+01</td>\n",
       "      <td>1.724474e+03</td>\n",
       "      <td>8.223766e+06</td>\n",
       "    </tr>\n",
       "    <tr>\n",
       "      <td>std</td>\n",
       "      <td>3.060182e+03</td>\n",
       "      <td>1.952034e+05</td>\n",
       "      <td>2.034654e+01</td>\n",
       "      <td>4.600335e+03</td>\n",
       "      <td>1.902086e+08</td>\n",
       "    </tr>\n",
       "    <tr>\n",
       "      <td>min</td>\n",
       "      <td>1.000000e+00</td>\n",
       "      <td>1.345306e+09</td>\n",
       "      <td>1.000000e+00</td>\n",
       "      <td>0.000000e+00</td>\n",
       "      <td>0.000000e+00</td>\n",
       "    </tr>\n",
       "    <tr>\n",
       "      <td>25%</td>\n",
       "      <td>2.938000e+03</td>\n",
       "      <td>1.345475e+09</td>\n",
       "      <td>2.000000e+00</td>\n",
       "      <td>7.200000e+01</td>\n",
       "      <td>8.074000e+04</td>\n",
       "    </tr>\n",
       "    <tr>\n",
       "      <td>50%</td>\n",
       "      <td>5.276000e+03</td>\n",
       "      <td>1.345637e+09</td>\n",
       "      <td>6.000000e+00</td>\n",
       "      <td>4.430000e+02</td>\n",
       "      <td>5.738290e+05</td>\n",
       "    </tr>\n",
       "    <tr>\n",
       "      <td>75%</td>\n",
       "      <td>7.528000e+03</td>\n",
       "      <td>1.345806e+09</td>\n",
       "      <td>1.600000e+01</td>\n",
       "      <td>1.695000e+03</td>\n",
       "      <td>2.553905e+06</td>\n",
       "    </tr>\n",
       "    <tr>\n",
       "      <td>max</td>\n",
       "      <td>1.326900e+04</td>\n",
       "      <td>1.345993e+09</td>\n",
       "      <td>4.130000e+02</td>\n",
       "      <td>7.945850e+05</td>\n",
       "      <td>1.148665e+11</td>\n",
       "    </tr>\n",
       "  </tbody>\n",
       "</table>\n",
       "</div>"
      ],
      "text/plain": [
       "                 bs     time_hour         users       packets         bytes\n",
       "count  1.625680e+06  1.625680e+06  1.625680e+06  1.625680e+06  1.625680e+06\n",
       "mean   5.372162e+03  1.345643e+09  1.377170e+01  1.724474e+03  8.223766e+06\n",
       "std    3.060182e+03  1.952034e+05  2.034654e+01  4.600335e+03  1.902086e+08\n",
       "min    1.000000e+00  1.345306e+09  1.000000e+00  0.000000e+00  0.000000e+00\n",
       "25%    2.938000e+03  1.345475e+09  2.000000e+00  7.200000e+01  8.074000e+04\n",
       "50%    5.276000e+03  1.345637e+09  6.000000e+00  4.430000e+02  5.738290e+05\n",
       "75%    7.528000e+03  1.345806e+09  1.600000e+01  1.695000e+03  2.553905e+06\n",
       "max    1.326900e+04  1.345993e+09  4.130000e+02  7.945850e+05  1.148665e+11"
      ]
     },
     "execution_count": 24,
     "metadata": {},
     "output_type": "execute_result"
    }
   ],
   "source": [
    "cellular_trafic_data.describe()"
   ]
  },
  {
   "cell_type": "markdown",
   "metadata": {},
   "source": [
    "### Topology"
   ]
  },
  {
   "cell_type": "code",
   "execution_count": 12,
   "metadata": {},
   "outputs": [],
   "source": [
    "topology_data = pd.read_csv('traceset/topology.csv', delimiter = ',', decimal='.')"
   ]
  },
  {
   "cell_type": "code",
   "execution_count": 13,
   "metadata": {},
   "outputs": [
    {
     "name": "stdout",
     "output_type": "stream",
     "text": [
      "<class 'pandas.core.frame.DataFrame'>\n",
      "RangeIndex: 13269 entries, 0 to 13268\n",
      "Data columns (total 3 columns):\n",
      "bs     13269 non-null int64\n",
      "lon    13269 non-null float64\n",
      "lat    13269 non-null float64\n",
      "dtypes: float64(2), int64(1)\n",
      "memory usage: 311.1 KB\n"
     ]
    }
   ],
   "source": [
    "topology_data.info()"
   ]
  },
  {
   "cell_type": "code",
   "execution_count": 14,
   "metadata": {},
   "outputs": [
    {
     "data": {
      "text/html": [
       "<div>\n",
       "<style scoped>\n",
       "    .dataframe tbody tr th:only-of-type {\n",
       "        vertical-align: middle;\n",
       "    }\n",
       "\n",
       "    .dataframe tbody tr th {\n",
       "        vertical-align: top;\n",
       "    }\n",
       "\n",
       "    .dataframe thead th {\n",
       "        text-align: right;\n",
       "    }\n",
       "</style>\n",
       "<table border=\"1\" class=\"dataframe\">\n",
       "  <thead>\n",
       "    <tr style=\"text-align: right;\">\n",
       "      <th></th>\n",
       "      <th>bs</th>\n",
       "      <th>lon</th>\n",
       "      <th>lat</th>\n",
       "    </tr>\n",
       "  </thead>\n",
       "  <tbody>\n",
       "    <tr>\n",
       "      <td>0</td>\n",
       "      <td>1</td>\n",
       "      <td>111.247626</td>\n",
       "      <td>13.161971</td>\n",
       "    </tr>\n",
       "    <tr>\n",
       "      <td>1</td>\n",
       "      <td>2</td>\n",
       "      <td>111.209676</td>\n",
       "      <td>13.288072</td>\n",
       "    </tr>\n",
       "    <tr>\n",
       "      <td>2</td>\n",
       "      <td>3</td>\n",
       "      <td>111.210788</td>\n",
       "      <td>13.295707</td>\n",
       "    </tr>\n",
       "    <tr>\n",
       "      <td>3</td>\n",
       "      <td>4</td>\n",
       "      <td>111.203125</td>\n",
       "      <td>13.290818</td>\n",
       "    </tr>\n",
       "    <tr>\n",
       "      <td>4</td>\n",
       "      <td>5</td>\n",
       "      <td>111.215505</td>\n",
       "      <td>13.281345</td>\n",
       "    </tr>\n",
       "  </tbody>\n",
       "</table>\n",
       "</div>"
      ],
      "text/plain": [
       "   bs         lon        lat\n",
       "0   1  111.247626  13.161971\n",
       "1   2  111.209676  13.288072\n",
       "2   3  111.210788  13.295707\n",
       "3   4  111.203125  13.290818\n",
       "4   5  111.215505  13.281345"
      ]
     },
     "execution_count": 14,
     "metadata": {},
     "output_type": "execute_result"
    }
   ],
   "source": [
    "topology_data.head()"
   ]
  },
  {
   "cell_type": "code",
   "execution_count": 15,
   "metadata": {},
   "outputs": [
    {
     "data": {
      "text/html": [
       "<div>\n",
       "<style scoped>\n",
       "    .dataframe tbody tr th:only-of-type {\n",
       "        vertical-align: middle;\n",
       "    }\n",
       "\n",
       "    .dataframe tbody tr th {\n",
       "        vertical-align: top;\n",
       "    }\n",
       "\n",
       "    .dataframe thead th {\n",
       "        text-align: right;\n",
       "    }\n",
       "</style>\n",
       "<table border=\"1\" class=\"dataframe\">\n",
       "  <thead>\n",
       "    <tr style=\"text-align: right;\">\n",
       "      <th></th>\n",
       "      <th>bs</th>\n",
       "      <th>lon</th>\n",
       "      <th>lat</th>\n",
       "    </tr>\n",
       "  </thead>\n",
       "  <tbody>\n",
       "    <tr>\n",
       "      <td>13264</td>\n",
       "      <td>13265</td>\n",
       "      <td>111.063918</td>\n",
       "      <td>13.198752</td>\n",
       "    </tr>\n",
       "    <tr>\n",
       "      <td>13265</td>\n",
       "      <td>13266</td>\n",
       "      <td>111.066573</td>\n",
       "      <td>13.039694</td>\n",
       "    </tr>\n",
       "    <tr>\n",
       "      <td>13266</td>\n",
       "      <td>13267</td>\n",
       "      <td>111.065121</td>\n",
       "      <td>13.107543</td>\n",
       "    </tr>\n",
       "    <tr>\n",
       "      <td>13267</td>\n",
       "      <td>13268</td>\n",
       "      <td>111.196631</td>\n",
       "      <td>13.205329</td>\n",
       "    </tr>\n",
       "    <tr>\n",
       "      <td>13268</td>\n",
       "      <td>13269</td>\n",
       "      <td>111.036413</td>\n",
       "      <td>13.168402</td>\n",
       "    </tr>\n",
       "  </tbody>\n",
       "</table>\n",
       "</div>"
      ],
      "text/plain": [
       "          bs         lon        lat\n",
       "13264  13265  111.063918  13.198752\n",
       "13265  13266  111.066573  13.039694\n",
       "13266  13267  111.065121  13.107543\n",
       "13267  13268  111.196631  13.205329\n",
       "13268  13269  111.036413  13.168402"
      ]
     },
     "execution_count": 15,
     "metadata": {},
     "output_type": "execute_result"
    }
   ],
   "source": [
    "topology_data.tail()"
   ]
  },
  {
   "cell_type": "code",
   "execution_count": 16,
   "metadata": {},
   "outputs": [
    {
     "data": {
      "text/html": [
       "<div>\n",
       "<style scoped>\n",
       "    .dataframe tbody tr th:only-of-type {\n",
       "        vertical-align: middle;\n",
       "    }\n",
       "\n",
       "    .dataframe tbody tr th {\n",
       "        vertical-align: top;\n",
       "    }\n",
       "\n",
       "    .dataframe thead th {\n",
       "        text-align: right;\n",
       "    }\n",
       "</style>\n",
       "<table border=\"1\" class=\"dataframe\">\n",
       "  <thead>\n",
       "    <tr style=\"text-align: right;\">\n",
       "      <th></th>\n",
       "      <th>bs</th>\n",
       "      <th>lon</th>\n",
       "      <th>lat</th>\n",
       "    </tr>\n",
       "  </thead>\n",
       "  <tbody>\n",
       "    <tr>\n",
       "      <td>count</td>\n",
       "      <td>13269.000000</td>\n",
       "      <td>13269.000000</td>\n",
       "      <td>13269.000000</td>\n",
       "    </tr>\n",
       "    <tr>\n",
       "      <td>mean</td>\n",
       "      <td>6635.000000</td>\n",
       "      <td>111.083635</td>\n",
       "      <td>13.147439</td>\n",
       "    </tr>\n",
       "    <tr>\n",
       "      <td>std</td>\n",
       "      <td>3830.574696</td>\n",
       "      <td>0.063283</td>\n",
       "      <td>0.063965</td>\n",
       "    </tr>\n",
       "    <tr>\n",
       "      <td>min</td>\n",
       "      <td>1.000000</td>\n",
       "      <td>110.951698</td>\n",
       "      <td>13.004320</td>\n",
       "    </tr>\n",
       "    <tr>\n",
       "      <td>25%</td>\n",
       "      <td>3318.000000</td>\n",
       "      <td>111.043553</td>\n",
       "      <td>13.111423</td>\n",
       "    </tr>\n",
       "    <tr>\n",
       "      <td>50%</td>\n",
       "      <td>6635.000000</td>\n",
       "      <td>111.075527</td>\n",
       "      <td>13.148746</td>\n",
       "    </tr>\n",
       "    <tr>\n",
       "      <td>75%</td>\n",
       "      <td>9952.000000</td>\n",
       "      <td>111.111813</td>\n",
       "      <td>13.185112</td>\n",
       "    </tr>\n",
       "    <tr>\n",
       "      <td>max</td>\n",
       "      <td>13269.000000</td>\n",
       "      <td>111.248901</td>\n",
       "      <td>13.353194</td>\n",
       "    </tr>\n",
       "  </tbody>\n",
       "</table>\n",
       "</div>"
      ],
      "text/plain": [
       "                 bs           lon           lat\n",
       "count  13269.000000  13269.000000  13269.000000\n",
       "mean    6635.000000    111.083635     13.147439\n",
       "std     3830.574696      0.063283      0.063965\n",
       "min        1.000000    110.951698     13.004320\n",
       "25%     3318.000000    111.043553     13.111423\n",
       "50%     6635.000000    111.075527     13.148746\n",
       "75%     9952.000000    111.111813     13.185112\n",
       "max    13269.000000    111.248901     13.353194"
      ]
     },
     "execution_count": 16,
     "metadata": {},
     "output_type": "execute_result"
    }
   ],
   "source": [
    "topology_data.describe()"
   ]
  },
  {
   "cell_type": "code",
   "execution_count": 19,
   "metadata": {},
   "outputs": [],
   "source": [
    "df = geopandas.read_file(geopandas.datasets.get_path('nybb'))\n"
   ]
  },
  {
   "cell_type": "code",
   "execution_count": 6,
   "metadata": {},
   "outputs": [
    {
     "data": {
      "image/png": "[encoded data removed]",
      "text/plain": [
       "<Figure size 720x720 with 1 Axes>"
      ]
     },
     "metadata": {
      "needs_background": "light"
     },
     "output_type": "display_data"
    }
   ],
   "source": [
    "ax = df.plot(figsize=(10, 10), alpha=0.5, edgecolor='k')\n"
   ]
  },
  {
   "cell_type": "code",
   "execution_count": null,
   "metadata": {},
   "outputs": [],
   "source": []
  }
 ],
 "metadata": {
  "kernelspec": {
   "display_name": "Python 3",
   "language": "python",
   "name": "python3"
  },
  "language_info": {
   "codemirror_mode": {
    "name": "ipython",
    "version": 3
   },
   "file_extension": ".py",
   "mimetype": "text/x-python",
   "name": "python",
   "nbconvert_exporter": "python",
   "pygments_lexer": "ipython3",
   "version": "3.7.4"
  }
 },
 "nbformat": 4,
 "nbformat_minor": 2
}
