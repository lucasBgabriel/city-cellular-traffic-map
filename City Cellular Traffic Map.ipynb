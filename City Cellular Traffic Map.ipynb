{
 "cells": [
  {
   "cell_type": "markdown",
   "metadata": {},
   "source": [
    "## Identification.\n",
    "\n",
    "• Giovana Vieira de Morais - 11921908\n",
    "\n",
    "• Lucas Batista Gabriel - 7656147\n",
    "\n"
   ]
  },
  {
   "cell_type": "markdown",
   "metadata": {},
   "source": [
    "## Name of the dataset\n",
    "Dataset: City Cellular Traffic Map\n",
    "URL: https://github.com/caesar0301/city-cellular-traffic-map"
   ]
  },
  {
   "cell_type": "markdown",
   "metadata": {},
   "source": [
    "## Abstract\n",
    "bla bla bla"
   ]
  },
  {
   "cell_type": "markdown",
   "metadata": {},
   "source": [
    "## Questions to the dataset\n",
    "Question 1: \n",
    "\n",
    "Question 2: \n",
    "\n",
    "Question 3: \n",
    "\n",
    "Question 4:\n",
    "\n",
    "Question 5: What is the hour in the day with most users actives? \n",
    "\n",
    "Question 6: What's the Base Station that receives more traffic? \n"
   ]
  },
  {
   "cell_type": "markdown",
   "metadata": {},
   "source": [
    "## EDA\n",
    "Present your EDA strategy:\n"
   ]
  },
  {
   "cell_type": "code",
   "execution_count": null,
   "metadata": {},
   "outputs": [],
   "source": [
    "import random\n",
    "import pandas as pd\n",
    "from statistics import mean, median\n",
    "import matplotlib.pyplot as plt\n",
    "from matplotlib import rcParams\n",
    "import folium\n",
    "from folium.plugins import MarkerCluster\n",
    "%matplotlib inline\n",
    "rcParams['figure.figsize'] = (15, 10)"
   ]
  },
  {
   "cell_type": "markdown",
   "metadata": {},
   "source": [
    "### Celular Traffic"
   ]
  },
  {
   "cell_type": "code",
   "execution_count": null,
   "metadata": {},
   "outputs": [],
   "source": [
    "cellular_traffic_data = pd.read_csv('traceset/cellular_traffic.csv', delimiter = ',', decimal='.')"
   ]
  },
  {
   "cell_type": "code",
   "execution_count": null,
   "metadata": {},
   "outputs": [],
   "source": [
    "cellular_traffic_data.info()"
   ]
  },
  {
   "cell_type": "code",
   "execution_count": null,
   "metadata": {},
   "outputs": [],
   "source": [
    "cellular_traffic_data.head()"
   ]
  },
  {
   "cell_type": "code",
   "execution_count": null,
   "metadata": {},
   "outputs": [],
   "source": [
    "cellular_traffic_data.tail()"
   ]
  },
  {
   "cell_type": "code",
   "execution_count": null,
   "metadata": {},
   "outputs": [],
   "source": [
    "cellular_traffic_data.describe()"
   ]
  },
  {
   "cell_type": "markdown",
   "metadata": {},
   "source": [
    "### Topology"
   ]
  },
  {
   "cell_type": "code",
   "execution_count": null,
   "metadata": {},
   "outputs": [],
   "source": [
    "topology_data = pd.read_csv('traceset/topology.csv', delimiter = ',', decimal='.')"
   ]
  },
  {
   "cell_type": "code",
   "execution_count": null,
   "metadata": {},
   "outputs": [],
   "source": [
    "topology_data.info()"
   ]
  },
  {
   "cell_type": "code",
   "execution_count": null,
   "metadata": {},
   "outputs": [],
   "source": [
    "topology_data.head()"
   ]
  },
  {
   "cell_type": "code",
   "execution_count": null,
   "metadata": {},
   "outputs": [],
   "source": [
    "topology_data.tail()"
   ]
  },
  {
   "cell_type": "code",
   "execution_count": null,
   "metadata": {},
   "outputs": [],
   "source": [
    "topology_data.describe()"
   ]
  },
  {
   "cell_type": "markdown",
   "metadata": {},
   "source": [
    "## Map visualization\n",
    "\n",
    "Since we have 13269 base stations in our map, visualization can get a little difficult.\n",
    "To solve that and to make computation faster, we will show our data with clusters.\n",
    "Each cluster is marked with the quantity of base stations inside. Click to zoom inside that cluster.\n",
    "\n",
    "The \"swept the real longitudes and latitudes before publishing the data because we were banned by the privacy protocol in the research\". So we can't visualize our topology data clearly."
   ]
  },
  {
   "cell_type": "code",
   "execution_count": null,
   "metadata": {},
   "outputs": [],
   "source": [
    "topology_data.count()"
   ]
  },
  {
   "cell_type": "code",
   "execution_count": null,
   "metadata": {},
   "outputs": [],
   "source": [
    "# click to open the markers and visualize the base stations\n",
    "mc = MarkerCluster()\n",
    "\n",
    "cluster_map = folium.Map(location = [topology_data['lat'].mean(), topology_data['lon'].mean()],\n",
    "                 title = 'Clustered base station')\n",
    "\n",
    "for i in range(0, len(topology_data)):\n",
    "    mc.add_child(folium.Marker([topology_data.iloc[i]['lat'], topology_data.iloc[i]['lon']]))\n",
    "    \n",
    "cluster_map.add_child(mc)\n",
    "\n",
    "cluster_map"
   ]
  },
  {
   "cell_type": "markdown",
   "metadata": {},
   "source": [
    "# Question 4:"
   ]
  },
  {
   "cell_type": "markdown",
   "metadata": {},
   "source": [
    "# Question 5: What is the hour in the day with most users actives?"
   ]
  },
  {
   "cell_type": "code",
   "execution_count": null,
   "metadata": {},
   "outputs": [],
   "source": [
    "cellular_traffic_data['time_hour'] = cellular_traffic_data['time_hour'].map(lambda x: pd.Timestamp(x, unit='s', tz='Asia/Shanghai'))\n",
    "cellular_traffic_data['hour'] = cellular_traffic_data['time_hour'].map(lambda x: x.hour)\n",
    "cellular_traffic_data['day'] = cellular_traffic_data['time_hour'].map(lambda x: x.day)"
   ]
  },
  {
   "cell_type": "code",
   "execution_count": null,
   "metadata": {},
   "outputs": [],
   "source": [
    "total_hour_traffic = cellular_traffic_data.groupby(['hour']).mean()"
   ]
  },
  {
   "cell_type": "code",
   "execution_count": null,
   "metadata": {},
   "outputs": [],
   "source": [
    "total_hour_traffic['users'].plot(kind='bar', title='users/hour')"
   ]
  },
  {
   "cell_type": "markdown",
   "metadata": {},
   "source": [
    "We can see that 7PM has the highest mean, followed by 6PM. But it doesn't mean that the same hours have the \n",
    "the highest packets quantity as we can see below. "
   ]
  },
  {
   "cell_type": "code",
   "execution_count": null,
   "metadata": {},
   "outputs": [],
   "source": [
    "plt.subplot(2,2,1)\n",
    "total_hour_traffic['users'].plot(kind='bar', title='users/hour')\n",
    "plt.subplot(2,2,2)\n",
    "total_hour_traffic['packets'].plot(kind='bar', title='packets/hour')\n",
    "plt.subplot(2,2,3)\n",
    "total_hour_traffic['bytes'].plot(kind='bar', title='bytes/hour')"
   ]
  },
  {
   "cell_type": "markdown",
   "metadata": {},
   "source": [
    "So now we can see that the highest packet traffic occurs at 11PM and 12PM. The largest packets (the ones with more\n",
    "bytes) are traveling at 2PM and 11PM."
   ]
  },
  {
   "cell_type": "markdown",
   "metadata": {},
   "source": [
    "# Question 6: What's the Base Station that receives more traffic? \n",
    "To answer this question, we have to consider some scenarios:\n",
    "\n",
    "- What's the BS that has more users connected at the same time (per hour and per day)?\n",
    "- What's the BS that has more packets (per hour and per day)?\n",
    "- What's the BS that has the largest packets (per hour and per day)?\n",
    "\n",
    "## Per day"
   ]
  },
  {
   "cell_type": "code",
   "execution_count": null,
   "metadata": {},
   "outputs": [],
   "source": [
    "day_traffic_data = cellular_traffic_data.groupby(['bs', 'day']).mean()\n",
    "day_traffic_data"
   ]
  },
  {
   "cell_type": "code",
   "execution_count": null,
   "metadata": {},
   "outputs": [],
   "source": [
    "day_traffic_data.idxmax()"
   ]
  },
  {
   "cell_type": "code",
   "execution_count": null,
   "metadata": {},
   "outputs": [],
   "source": [
    "max_data = day_traffic_data.idxmax()"
   ]
  },
  {
   "cell_type": "markdown",
   "metadata": {},
   "source": [
    "So, as we see below, the BS with more users at the same time is **BS 7999** and the traffic peak occurred on \n",
    "August 20th, when aprox. 199 users were connected."
   ]
  },
  {
   "cell_type": "code",
   "execution_count": null,
   "metadata": {},
   "outputs": [],
   "source": [
    "day_traffic_data[(day_traffic_data.index.get_level_values('bs') == max_data.users[0]) &\n",
    "                 (day_traffic_data.index.get_level_values('day') == max_data.users[1])]"
   ]
  },
  {
   "cell_type": "markdown",
   "metadata": {},
   "source": [
    "The BS with more packets was **BS 9286**, that had aprox 162995 packets in a single day on August 26th."
   ]
  },
  {
   "cell_type": "code",
   "execution_count": null,
   "metadata": {},
   "outputs": [],
   "source": [
    "day_traffic_data[(day_traffic_data.index.get_level_values('bs') == max_data.packets[0]) &\n",
    "                 (day_traffic_data.index.get_level_values('day') == max_data.packets[1])]"
   ]
  },
  {
   "cell_type": "markdown",
   "metadata": {},
   "source": [
    "The BS with the largest packets in a hour was **BS10955** that 3.726662e+10 bytes on August 21th."
   ]
  },
  {
   "cell_type": "code",
   "execution_count": null,
   "metadata": {},
   "outputs": [],
   "source": [
    "day_traffic_data[(day_traffic_data.index.get_level_values('bs') == max_data.bytes[0]) &\n",
    "                 (day_traffic_data.index.get_level_values('day') == max_data.bytes[1])]"
   ]
  },
  {
   "cell_type": "code",
   "execution_count": null,
   "metadata": {},
   "outputs": [],
   "source": [
    "## plotting a map with those three max bs to check how close they are\n",
    "bs_info = {\n",
    "    \"most_user_access\": max_data.users[0],\n",
    "    \"most_bytes\": max_data.bytes[0],\n",
    "    \"most_packets\": max_data.packets[0]\n",
    "}\n",
    "\n",
    "bs = []\n",
    "for bs_index in max_data:\n",
    "    bs.append(bs_index[0])\n",
    "\n",
    "max_day_map = folium.Map(location = [topology_data.iloc[bs]['lat'].mean(), topology_data.iloc[bs]['lon'].mean()],\n",
    "                 title = 'base station with max data per day')\n",
    "\n",
    "for i in bs_info:\n",
    "    print(f\"base station index of {i}: {bs_info[i]}\")\n",
    "    folium.Marker(location = [topology_data.iloc[bs_info[i]]['lat'], \n",
    "                              topology_data.iloc[bs_info[i]]['lon']],\n",
    "                 tooltip = i).add_to(max_day_map)\n",
    "    \n",
    "max_day_map"
   ]
  },
  {
   "cell_type": "code",
   "execution_count": null,
   "metadata": {},
   "outputs": [],
   "source": [
    "bs_info"
   ]
  },
  {
   "cell_type": "code",
   "execution_count": null,
   "metadata": {},
   "outputs": [],
   "source": [
    "plt.subplot(3,1,1)\n",
    "plt.title(f\"users\")\n",
    "day_traffic_data[day_traffic_data.index.get_level_values('bs') == bs_info['most_bytes']]['users'].plot(label=bs_info['most_bytes'])\n",
    "day_traffic_data[day_traffic_data.index.get_level_values('bs') == bs_info['most_packets']]['users'].plot(label=bs_info['most_packets'])\n",
    "day_traffic_data[day_traffic_data.index.get_level_values('bs') == bs_info['most_user_access']]['users'].plot(label=bs_info['most_user_access'])\n",
    "plt.legend()\n",
    "\n",
    "\n",
    "plt.subplot(3,1,2)\n",
    "plt.title(f\"bytes\")\n",
    "day_traffic_data[day_traffic_data.index.get_level_values('bs') == bs_info['most_bytes']]['bytes'].plot(label=bs_info['most_bytes'])\n",
    "day_traffic_data[day_traffic_data.index.get_level_values('bs') == bs_info['most_packets']]['bytes'].plot(label=bs_info['most_packets'])\n",
    "day_traffic_data[day_traffic_data.index.get_level_values('bs') == bs_info['most_user_access']]['bytes'].plot(label=bs_info['most_user_access'])\n",
    "plt.legend()\n",
    "\n",
    "plt.subplot(3,1,3)\n",
    "plt.title(f\"packets\")\n",
    "day_traffic_data[day_traffic_data.index.get_level_values('bs') == bs_info['most_bytes']]['packets'].plot(label=bs_info['most_bytes'])\n",
    "day_traffic_data[day_traffic_data.index.get_level_values('bs') == bs_info['most_packets']]['packets'].plot(label=bs_info['most_packets'])\n",
    "day_traffic_data[day_traffic_data.index.get_level_values('bs') == bs_info['most_user_access']]['packets'].plot(label=bs_info['most_user_access'])\n",
    "\n",
    "plt.legend()\n",
    "\n",
    "plt.tight_layout()"
   ]
  },
  {
   "cell_type": "code",
   "execution_count": null,
   "metadata": {},
   "outputs": [],
   "source": [
    "day_traffic_data[day_traffic_data.index.get_level_values('bs') == 1].corr()"
   ]
  },
  {
   "cell_type": "code",
   "execution_count": null,
   "metadata": {},
   "outputs": [],
   "source": [
    "# exemplo de distribuição pra 2 estações diferentes\n",
    "plt.subplot(3,1,1)\n",
    "plt.title(\"mean users per day\")\n",
    "day_traffic_data[day_traffic_data.index.get_level_values('bs') == bs_info['most_bytes']]['users'].plot.bar(color='r', label = f\"BS: {bs_info['most_bytes']}\")\n",
    "day_traffic_data[day_traffic_data.index.get_level_values('bs') == bs_info['most_packets']]['users'].plot.bar(color='g', label = f\"BS: {bs_info['most_packets']}\")\n",
    "day_traffic_data[day_traffic_data.index.get_level_values('bs') == bs_info['most_user_access']]['users'].plot.bar(color='b', label = f\"BS: {bs_info['most_user_access']}\")\n",
    "plt.legend()\n",
    "\n",
    "plt.subplot(3,1,2)\n",
    "plt.title(\"mean packets per day\")\n",
    "day_traffic_data[day_traffic_data.index.get_level_values('bs') == bs_info['most_bytes']]['packets'].plot.bar(color='r', label=f\"BS: {bs_info['most_bytes']}\")\n",
    "day_traffic_data[day_traffic_data.index.get_level_values('bs') == bs_info['most_packets']]['packets'].plot.bar(color='g', label=f\"BS: {bs_info['most_packets']}\")\n",
    "day_traffic_data[day_traffic_data.index.get_level_values('bs') == bs_info['most_user_access']]['packets'].plot.bar(color='b', label=f\"BS: {bs_info['most_user_access']}\")\n",
    "plt.legend()\n",
    "\n",
    "plt.subplot(3,1,3)\n",
    "plt.title(\"mean bytes per day\")\n",
    "day_traffic_data[day_traffic_data.index.get_level_values('bs') == bs_info['most_bytes']]['bytes'].plot.bar(color='r', label=f\"BS: {bs_info['most_bytes']}\")\n",
    "day_traffic_data[day_traffic_data.index.get_level_values('bs') == bs_info['most_packets']]['bytes'].plot.bar(color='g', label=f\"BS: {bs_info['most_packets']}\")\n",
    "day_traffic_data[day_traffic_data.index.get_level_values('bs') == bs_info['most_user_access']]['bytes'].plot.bar(color='b', label=f\"BS: {bs_info['most_user_access']}\")\n",
    "plt.legend()\n",
    "\n",
    "plt.tight_layout()"
   ]
  },
  {
   "cell_type": "markdown",
   "metadata": {},
   "source": [
    "## Per hour"
   ]
  },
  {
   "cell_type": "code",
   "execution_count": null,
   "metadata": {},
   "outputs": [],
   "source": [
    "hour_traffic_data = cellular_traffic_data.groupby(['bs', 'hour']).mean()\n",
    "hour_traffic_data"
   ]
  },
  {
   "cell_type": "code",
   "execution_count": null,
   "metadata": {},
   "outputs": [],
   "source": [
    "max_hour = hour_traffic_data.idxmax()"
   ]
  },
  {
   "cell_type": "markdown",
   "metadata": {},
   "source": [
    "We can see that, among all 24 hours, the BS with more users connected at the same hour was **BS 7846** at 8AM."
   ]
  },
  {
   "cell_type": "code",
   "execution_count": null,
   "metadata": {},
   "outputs": [],
   "source": [
    "hour_traffic_data[(hour_traffic_data.index.get_level_values('bs') == max_hour.users[0]) &\n",
    "                 (hour_traffic_data.index.get_level_values('hour') == max_hour.users[1])]"
   ]
  },
  {
   "cell_type": "markdown",
   "metadata": {},
   "source": [
    "The BS with more packets travelling was **BS 9286**, with a mean value of 251072 packets travelling at 2AM."
   ]
  },
  {
   "cell_type": "code",
   "execution_count": null,
   "metadata": {},
   "outputs": [],
   "source": [
    "hour_traffic_data[(hour_traffic_data.index.get_level_values('bs') == max_hour.packets[0]) &\n",
    "                 (hour_traffic_data.index.get_level_values('hour') == max_hour.packets[1])]"
   ]
  },
  {
   "cell_type": "markdown",
   "metadata": {},
   "source": [
    "The BS with the largest packages travelling per hour was **BS 10955** with 3.726652e+10 bytes at 9AM."
   ]
  },
  {
   "cell_type": "code",
   "execution_count": null,
   "metadata": {},
   "outputs": [],
   "source": [
    "hour_traffic_data[(hour_traffic_data.index.get_level_values('bs') == max_hour.bytes[0]) &\n",
    "                 (hour_traffic_data.index.get_level_values('hour') == max_hour.bytes[1])]"
   ]
  },
  {
   "cell_type": "code",
   "execution_count": null,
   "metadata": {},
   "outputs": [],
   "source": [
    "bs_hour_info = {\n",
    "    \"most_user_access\": max_hour.users[0],\n",
    "    \"most_bytes\": max_hour.bytes[0],\n",
    "    \"most_packets\": max_hour.packets[0]\n",
    "}\n",
    "\n",
    "bs_hour_info"
   ]
  },
  {
   "cell_type": "code",
   "execution_count": null,
   "metadata": {},
   "outputs": [],
   "source": [
    "plt.subplot(3,1,1)\n",
    "plt.title(f\"users\")\n",
    "hour_traffic_data[hour_traffic_data.index.get_level_values('bs') == bs_hour_info['most_bytes']]['users'].plot(label=bs_hour_info['most_bytes'])\n",
    "hour_traffic_data[hour_traffic_data.index.get_level_values('bs') == bs_hour_info['most_packets']]['users'].plot(label=bs_hour_info['most_packets'])\n",
    "hour_traffic_data[hour_traffic_data.index.get_level_values('bs') == bs_hour_info['most_user_access']]['users'].plot(label=bs_hour_info['most_user_access'])\n",
    "plt.legend()\n",
    "\n",
    "\n",
    "plt.subplot(3,1,2)\n",
    "plt.title(f\"bytes\")\n",
    "hour_traffic_data[hour_traffic_data.index.get_level_values('bs') == bs_hour_info['most_bytes']]['bytes'].plot(label=bs_hour_info['most_bytes'])\n",
    "hour_traffic_data[hour_traffic_data.index.get_level_values('bs') == bs_hour_info['most_packets']]['bytes'].plot(label=bs_hour_info['most_packets'])\n",
    "hour_traffic_data[hour_traffic_data.index.get_level_values('bs') == bs_hour_info['most_user_access']]['bytes'].plot(label=bs_hour_info['most_user_access'])\n",
    "plt.legend()\n",
    "\n",
    "plt.subplot(3,1,3)\n",
    "plt.title(f\"packets\")\n",
    "hour_traffic_data[hour_traffic_data.index.get_level_values('bs') == bs_hour_info['most_bytes']]['packets'].plot(label=bs_hour_info['most_bytes'])\n",
    "hour_traffic_data[hour_traffic_data.index.get_level_values('bs') == bs_hour_info['most_packets']]['packets'].plot(label=bs_hour_info['most_packets'])\n",
    "hour_traffic_data[hour_traffic_data.index.get_level_values('bs') == bs_hour_info['most_user_access']]['packets'].plot(label=bs_hour_info['most_user_access'])\n",
    "\n",
    "plt.legend()\n",
    "\n",
    "plt.tight_layout()"
   ]
  },
  {
   "cell_type": "code",
   "execution_count": null,
   "metadata": {},
   "outputs": [],
   "source": [
    "# exemplo de distribuição pra 2 estações diferentes\n",
    "plt.subplot(3,1,1)\n",
    "plt.title(\"mean users per day\")\n",
    "hour_traffic_data[hour_traffic_data.index.get_level_values('bs') == bs_hour_info['most_bytes']]['users'].plot.bar(color='r', label = f\"BS: {bs_hour_info['most_bytes']}\")\n",
    "hour_traffic_data[hour_traffic_data.index.get_level_values('bs') == bs_hour_info['most_packets']]['users'].plot.bar(color='g', label = f\"BS: {bs_hour_info['most_packets']}\")\n",
    "hour_traffic_data[hour_traffic_data.index.get_level_values('bs') == bs_hour_info['most_user_access']]['users'].plot.bar(color='b', label = f\"BS: {bs_hour_info['most_user_access']}\")\n",
    "plt.legend()\n",
    "\n",
    "plt.subplot(3,1,2)\n",
    "plt.title(\"mean packets per day\")\n",
    "hour_traffic_data[hour_traffic_data.index.get_level_values('bs') == bs_hour_info['most_bytes']]['packets'].plot.bar(color='r', label=f\"BS: {bs_hour_info['most_bytes']}\")\n",
    "hour_traffic_data[hour_traffic_data.index.get_level_values('bs') == bs_hour_info['most_packets']]['packets'].plot.bar(color='g', label=f\"BS: {bs_hour_info['most_packets']}\")\n",
    "hour_traffic_data[hour_traffic_data.index.get_level_values('bs') == bs_hour_info['most_user_access']]['packets'].plot.bar(color='b', label=f\"BS: {bs_hour_info['most_user_access']}\")\n",
    "plt.legend()\n",
    "\n",
    "plt.subplot(3,1,3)\n",
    "plt.title(\"mean bytes per day\")\n",
    "hour_traffic_data[hour_traffic_data.index.get_level_values('bs') == bs_hour_info['most_bytes']]['bytes'].plot.bar(color='r', label=f\"BS: {bs_hour_info['most_bytes']}\")\n",
    "hour_traffic_data[hour_traffic_data.index.get_level_values('bs') == bs_hour_info['most_packets']]['bytes'].plot.bar(color='g', label=f\"BS: {bs_hour_info['most_packets']}\")\n",
    "hour_traffic_data[hour_traffic_data.index.get_level_values('bs') == bs_hour_info['most_user_access']]['bytes'].plot.bar(color='b', label=f\"BS: {bs_hour_info['most_user_access']}\")\n",
    "plt.legend()\n",
    "\n",
    "plt.tight_layout()"
   ]
  },
  {
   "cell_type": "code",
   "execution_count": null,
   "metadata": {},
   "outputs": [],
   "source": [
    "# exemplo de distribuição pra 2 estações diferente\n",
    "plt.subplot(2,3,1)\n",
    "hour_traffic_data[hour_traffic_data.index.get_level_values('bs') == 1]['users'].plot(kind='bar', title='users/day')\n",
    "plt.subplot(2,3,2)\n",
    "hour_traffic_data[hour_traffic_data.index.get_level_values('bs') == 1]['packets'].plot(kind='bar', title='packets/day')\n",
    "plt.subplot(2,3,3)\n",
    "hour_traffic_data[hour_traffic_data.index.get_level_values('bs') == 1]['bytes'].plot(kind='bar', title='bytes/day')\n",
    "\n",
    "plt.subplot(2,3,4)\n",
    "hour_traffic_data[hour_traffic_data.index.get_level_values('bs') == 298]['users'].plot(kind='bar', title='users/day')\n",
    "plt.subplot(2,3,5)\n",
    "hour_traffic_data[hour_traffic_data.index.get_level_values('bs') == 298]['packets'].plot(kind='bar', title='packets/day')\n",
    "plt.subplot(2,3,6)\n",
    "hour_traffic_data[hour_traffic_data.index.get_level_values('bs') == 298]['bytes'].plot(kind='bar', title='bytes/day')\n",
    "\n",
    "plt.tight_layout()"
   ]
  },
  {
   "cell_type": "code",
   "execution_count": null,
   "metadata": {},
   "outputs": [],
   "source": []
  }
 ],
 "metadata": {
  "kernelspec": {
   "display_name": "Python 3",
   "language": "python",
   "name": "python3"
  },
  "language_info": {
   "codemirror_mode": {
    "name": "ipython",
    "version": 3
   },
   "file_extension": ".py",
   "mimetype": "text/x-python",
   "name": "python",
   "nbconvert_exporter": "python",
   "pygments_lexer": "ipython3",
   "version": "3.8.2"
  }
 },
 "nbformat": 4,
 "nbformat_minor": 2
}
