{
 "cells": [
  {
   "cell_type": "code",
   "execution_count": 5,
   "metadata": {},
   "outputs": [],
   "source": [
    "from math import radians, cos, sin, asin, sqrt\n",
    "\n",
    "import folium \n",
    "import pandas as pd\n",
    "import numpy as np"
   ]
  },
  {
   "cell_type": "code",
   "execution_count": 6,
   "metadata": {},
   "outputs": [],
   "source": [
    "df = pd.read_csv(\"../traceset/topology.csv\", index_col=False)"
   ]
  },
  {
   "cell_type": "code",
   "execution_count": 7,
   "metadata": {},
   "outputs": [
    {
     "name": "stdout",
     "output_type": "stream",
     "text": [
      "<class 'pandas.core.frame.DataFrame'>\n",
      "RangeIndex: 13269 entries, 0 to 13268\n",
      "Data columns (total 3 columns):\n",
      " #   Column  Non-Null Count  Dtype  \n",
      "---  ------  --------------  -----  \n",
      " 0   bs      13269 non-null  int64  \n",
      " 1   lon     13269 non-null  float64\n",
      " 2   lat     13269 non-null  float64\n",
      "dtypes: float64(2), int64(1)\n",
      "memory usage: 311.1 KB\n"
     ]
    }
   ],
   "source": [
    "df.info()"
   ]
  },
  {
   "cell_type": "code",
   "execution_count": 8,
   "metadata": {},
   "outputs": [
    {
     "data": {
      "text/html": [
       "<div>\n",
       "<style scoped>\n",
       "    .dataframe tbody tr th:only-of-type {\n",
       "        vertical-align: middle;\n",
       "    }\n",
       "\n",
       "    .dataframe tbody tr th {\n",
       "        vertical-align: top;\n",
       "    }\n",
       "\n",
       "    .dataframe thead th {\n",
       "        text-align: right;\n",
       "    }\n",
       "</style>\n",
       "<table border=\"1\" class=\"dataframe\">\n",
       "  <thead>\n",
       "    <tr style=\"text-align: right;\">\n",
       "      <th></th>\n",
       "      <th>bs</th>\n",
       "      <th>lon</th>\n",
       "      <th>lat</th>\n",
       "    </tr>\n",
       "  </thead>\n",
       "  <tbody>\n",
       "    <tr>\n",
       "      <th>944</th>\n",
       "      <td>945</td>\n",
       "      <td>111.136232</td>\n",
       "      <td>13.163152</td>\n",
       "    </tr>\n",
       "    <tr>\n",
       "      <th>12489</th>\n",
       "      <td>12490</td>\n",
       "      <td>111.147299</td>\n",
       "      <td>13.109297</td>\n",
       "    </tr>\n",
       "    <tr>\n",
       "      <th>3632</th>\n",
       "      <td>3633</td>\n",
       "      <td>111.029284</td>\n",
       "      <td>13.191783</td>\n",
       "    </tr>\n",
       "    <tr>\n",
       "      <th>1004</th>\n",
       "      <td>1005</td>\n",
       "      <td>111.180201</td>\n",
       "      <td>13.190725</td>\n",
       "    </tr>\n",
       "    <tr>\n",
       "      <th>12785</th>\n",
       "      <td>12786</td>\n",
       "      <td>111.126705</td>\n",
       "      <td>13.157660</td>\n",
       "    </tr>\n",
       "  </tbody>\n",
       "</table>\n",
       "</div>"
      ],
      "text/plain": [
       "          bs         lon        lat\n",
       "944      945  111.136232  13.163152\n",
       "12489  12490  111.147299  13.109297\n",
       "3632    3633  111.029284  13.191783\n",
       "1004    1005  111.180201  13.190725\n",
       "12785  12786  111.126705  13.157660"
      ]
     },
     "execution_count": 8,
     "metadata": {},
     "output_type": "execute_result"
    }
   ],
   "source": [
    "df.sample(5)"
   ]
  },
  {
   "cell_type": "code",
   "execution_count": 9,
   "metadata": {},
   "outputs": [],
   "source": [
    "# primeiro com um subset\n",
    "sub_df = df.sample(100)"
   ]
  },
  {
   "cell_type": "code",
   "execution_count": 10,
   "metadata": {},
   "outputs": [
    {
     "data": {
      "text/html": [
       "<div>\n",
       "<style scoped>\n",
       "    .dataframe tbody tr th:only-of-type {\n",
       "        vertical-align: middle;\n",
       "    }\n",
       "\n",
       "    .dataframe tbody tr th {\n",
       "        vertical-align: top;\n",
       "    }\n",
       "\n",
       "    .dataframe thead th {\n",
       "        text-align: right;\n",
       "    }\n",
       "</style>\n",
       "<table border=\"1\" class=\"dataframe\">\n",
       "  <thead>\n",
       "    <tr style=\"text-align: right;\">\n",
       "      <th></th>\n",
       "      <th>bs</th>\n",
       "      <th>lon</th>\n",
       "      <th>lat</th>\n",
       "    </tr>\n",
       "  </thead>\n",
       "  <tbody>\n",
       "    <tr>\n",
       "      <th>1049</th>\n",
       "      <td>1050</td>\n",
       "      <td>111.083936</td>\n",
       "      <td>13.125975</td>\n",
       "    </tr>\n",
       "    <tr>\n",
       "      <th>8077</th>\n",
       "      <td>8078</td>\n",
       "      <td>111.082806</td>\n",
       "      <td>13.056710</td>\n",
       "    </tr>\n",
       "    <tr>\n",
       "      <th>11313</th>\n",
       "      <td>11314</td>\n",
       "      <td>111.117735</td>\n",
       "      <td>13.042483</td>\n",
       "    </tr>\n",
       "    <tr>\n",
       "      <th>1594</th>\n",
       "      <td>1595</td>\n",
       "      <td>111.226733</td>\n",
       "      <td>13.302926</td>\n",
       "    </tr>\n",
       "    <tr>\n",
       "      <th>11301</th>\n",
       "      <td>11302</td>\n",
       "      <td>111.183952</td>\n",
       "      <td>13.071945</td>\n",
       "    </tr>\n",
       "    <tr>\n",
       "      <th>...</th>\n",
       "      <td>...</td>\n",
       "      <td>...</td>\n",
       "      <td>...</td>\n",
       "    </tr>\n",
       "    <tr>\n",
       "      <th>7180</th>\n",
       "      <td>7181</td>\n",
       "      <td>111.094942</td>\n",
       "      <td>13.170786</td>\n",
       "    </tr>\n",
       "    <tr>\n",
       "      <th>2223</th>\n",
       "      <td>2224</td>\n",
       "      <td>111.029322</td>\n",
       "      <td>13.197419</td>\n",
       "    </tr>\n",
       "    <tr>\n",
       "      <th>4522</th>\n",
       "      <td>4523</td>\n",
       "      <td>111.085333</td>\n",
       "      <td>13.107244</td>\n",
       "    </tr>\n",
       "    <tr>\n",
       "      <th>709</th>\n",
       "      <td>710</td>\n",
       "      <td>111.188202</td>\n",
       "      <td>13.036661</td>\n",
       "    </tr>\n",
       "    <tr>\n",
       "      <th>1946</th>\n",
       "      <td>1947</td>\n",
       "      <td>111.083699</td>\n",
       "      <td>13.161824</td>\n",
       "    </tr>\n",
       "  </tbody>\n",
       "</table>\n",
       "<p>100 rows × 3 columns</p>\n",
       "</div>"
      ],
      "text/plain": [
       "          bs         lon        lat\n",
       "1049    1050  111.083936  13.125975\n",
       "8077    8078  111.082806  13.056710\n",
       "11313  11314  111.117735  13.042483\n",
       "1594    1595  111.226733  13.302926\n",
       "11301  11302  111.183952  13.071945\n",
       "...      ...         ...        ...\n",
       "7180    7181  111.094942  13.170786\n",
       "2223    2224  111.029322  13.197419\n",
       "4522    4523  111.085333  13.107244\n",
       "709      710  111.188202  13.036661\n",
       "1946    1947  111.083699  13.161824\n",
       "\n",
       "[100 rows x 3 columns]"
      ]
     },
     "execution_count": 10,
     "metadata": {},
     "output_type": "execute_result"
    }
   ],
   "source": [
    "sub_df"
   ]
  },
  {
   "cell_type": "code",
   "execution_count": 11,
   "metadata": {},
   "outputs": [],
   "source": [
    "def haversine(lon1, lat1, lon2, lat2):\n",
    "    \"\"\"\n",
    "    Calculate the great circle distance between two points \n",
    "    on the earth (specified in decimal degrees)\n",
    "    \"\"\"\n",
    "    # convert decimal degrees to radians \n",
    "    lon1, lat1, lon2, lat2 = map(radians, [lon1, lat1, lon2, lat2])\n",
    "\n",
    "    # haversine formula \n",
    "    dlon = lon2 - lon1 \n",
    "    dlat = lat2 - lat1 \n",
    "    a = sin(dlat/2)**2 + cos(lat1) * cos(lat2) * sin(dlon/2)**2\n",
    "    c = 2 * asin(sqrt(a)) \n",
    "    r = 6371 # Radius of earth in kilometers. Use 3956 for miles\n",
    "    return c * r"
   ]
  },
  {
   "cell_type": "code",
   "execution_count": 12,
   "metadata": {},
   "outputs": [],
   "source": [
    "def create_dist_df(df):\n",
    "    df.reset_index(drop=True, inplace=True)\n",
    "\n",
    "    dist_dict = {\"from\": [], \"to\": [], \"distance\": []}\n",
    "    dist_matrix = np.zeros([len(df), len(df)])\n",
    "\n",
    "    for i in df.itertuples():\n",
    "        idx_i, bs_from, lat_i, lon_i = i[0], i[1], i[2], i[3]\n",
    "    \n",
    "        for j in df.itertuples():\n",
    "            idx_j, bs_to, lat_j, lon_j = j[0], j[1], j[2], j[3]\n",
    "            dist_dict[\"from\"].append(bs_from)\n",
    "            dist_dict[\"to\"].append(bs_to)\n",
    "            dist_dict[\"distance\"].append(haversine(lon_i, lat_i, lon_j, lat_j))\n",
    "\n",
    "    \n",
    "    return pd.DataFrame.from_dict(dist_dict)"
   ]
  },
  {
   "cell_type": "code",
   "execution_count": 14,
   "metadata": {},
   "outputs": [],
   "source": [
    "dist_matrix = create_dist_df(sub_df) "
   ]
  },
  {
   "cell_type": "code",
   "execution_count": 20,
   "metadata": {},
   "outputs": [
    {
     "data": {
      "text/html": [
       "<div>\n",
       "<style scoped>\n",
       "    .dataframe tbody tr th:only-of-type {\n",
       "        vertical-align: middle;\n",
       "    }\n",
       "\n",
       "    .dataframe tbody tr th {\n",
       "        vertical-align: top;\n",
       "    }\n",
       "\n",
       "    .dataframe thead th {\n",
       "        text-align: right;\n",
       "    }\n",
       "</style>\n",
       "<table border=\"1\" class=\"dataframe\">\n",
       "  <thead>\n",
       "    <tr style=\"text-align: right;\">\n",
       "      <th></th>\n",
       "      <th>from</th>\n",
       "      <th>to</th>\n",
       "      <th>distance</th>\n",
       "    </tr>\n",
       "  </thead>\n",
       "  <tbody>\n",
       "    <tr>\n",
       "      <th>0</th>\n",
       "      <td>1050</td>\n",
       "      <td>1050</td>\n",
       "      <td>0.000000</td>\n",
       "    </tr>\n",
       "    <tr>\n",
       "      <th>1</th>\n",
       "      <td>1050</td>\n",
       "      <td>8078</td>\n",
       "      <td>2.773423</td>\n",
       "    </tr>\n",
       "    <tr>\n",
       "      <th>2</th>\n",
       "      <td>1050</td>\n",
       "      <td>11314</td>\n",
       "      <td>5.029469</td>\n",
       "    </tr>\n",
       "    <tr>\n",
       "      <th>3</th>\n",
       "      <td>1050</td>\n",
       "      <td>1595</td>\n",
       "      <td>17.393810</td>\n",
       "    </tr>\n",
       "    <tr>\n",
       "      <th>4</th>\n",
       "      <td>1050</td>\n",
       "      <td>11302</td>\n",
       "      <td>11.330261</td>\n",
       "    </tr>\n",
       "    <tr>\n",
       "      <th>...</th>\n",
       "      <td>...</td>\n",
       "      <td>...</td>\n",
       "      <td>...</td>\n",
       "    </tr>\n",
       "    <tr>\n",
       "      <th>9995</th>\n",
       "      <td>1947</td>\n",
       "      <td>7181</td>\n",
       "      <td>1.300569</td>\n",
       "    </tr>\n",
       "    <tr>\n",
       "      <th>9996</th>\n",
       "      <td>1947</td>\n",
       "      <td>2224</td>\n",
       "      <td>6.211422</td>\n",
       "    </tr>\n",
       "    <tr>\n",
       "      <th>9997</th>\n",
       "      <td>1947</td>\n",
       "      <td>4523</td>\n",
       "      <td>2.190852</td>\n",
       "    </tr>\n",
       "    <tr>\n",
       "      <th>9998</th>\n",
       "      <td>1947</td>\n",
       "      <td>710</td>\n",
       "      <td>12.657544</td>\n",
       "    </tr>\n",
       "    <tr>\n",
       "      <th>9999</th>\n",
       "      <td>1947</td>\n",
       "      <td>1947</td>\n",
       "      <td>0.000000</td>\n",
       "    </tr>\n",
       "  </tbody>\n",
       "</table>\n",
       "<p>10000 rows × 3 columns</p>\n",
       "</div>"
      ],
      "text/plain": [
       "      from     to   distance\n",
       "0     1050   1050   0.000000\n",
       "1     1050   8078   2.773423\n",
       "2     1050  11314   5.029469\n",
       "3     1050   1595  17.393810\n",
       "4     1050  11302  11.330261\n",
       "...    ...    ...        ...\n",
       "9995  1947   7181   1.300569\n",
       "9996  1947   2224   6.211422\n",
       "9997  1947   4523   2.190852\n",
       "9998  1947    710  12.657544\n",
       "9999  1947   1947   0.000000\n",
       "\n",
       "[10000 rows x 3 columns]"
      ]
     },
     "execution_count": 20,
     "metadata": {},
     "output_type": "execute_result"
    }
   ],
   "source": [
    "dist_matrix"
   ]
  },
  {
   "cell_type": "code",
   "execution_count": 22,
   "metadata": {},
   "outputs": [],
   "source": [
    "dist_matrix.to_csv('../sensor_distance.csv', index=False)"
   ]
  },
  {
   "cell_type": "code",
   "execution_count": 19,
   "metadata": {},
   "outputs": [
    {
     "data": {
      "text/plain": [
       "array([ 1050,  8078, 11314,  1595, 11302,  1295,   344, 12339, 11952,\n",
       "       11403,  4579,  4721,  9956,  5292,  4304,  5537,  3196, 11975,\n",
       "       10297,  7721,  2677,  9401, 11959,  8576,  5804,  4671,  8904,\n",
       "        7738,  1956, 11482,  2576,   780, 10698,  7918,  5112, 11864,\n",
       "        5660,  3697,  3232,  6361,  1582,  2239,  9963,  9256,  4988,\n",
       "       11300, 12500,  6541,  2213,  4281,  9227,  5723, 11334,  6121,\n",
       "         314,  8421,   588,  6366, 12919,  3471, 10781,  9355,  4161,\n",
       "        6197,    47,  6953, 10772, 11286, 12895,  3842,  9668, 10104,\n",
       "        5522, 10741,  3719,  9278,  9128,  6759,  2429,   409, 11156,\n",
       "        1745, 11894,  2685, 12910, 10738,  5654, 11990,  2038,  4587,\n",
       "       13009,  8181,  4180,  2392, 10111,  7181,  2224,  4523,   710,\n",
       "        1947])"
      ]
     },
     "execution_count": 19,
     "metadata": {},
     "output_type": "execute_result"
    }
   ],
   "source": [
    "sub_df['bs'].values"
   ]
  }
 ],
 "metadata": {
  "kernelspec": {
   "display_name": "Python 3",
   "language": "python",
   "name": "python3"
  },
  "language_info": {
   "codemirror_mode": {
    "name": "ipython",
    "version": 3
   },
   "file_extension": ".py",
   "mimetype": "text/x-python",
   "name": "python",
   "nbconvert_exporter": "python",
   "pygments_lexer": "ipython3",
   "version": "3.6.9"
  }
 },
 "nbformat": 4,
 "nbformat_minor": 4
}
